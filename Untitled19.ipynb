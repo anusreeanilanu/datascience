{
  "nbformat": 4,
  "nbformat_minor": 0,
  "metadata": {
    "colab": {
      "provenance": []
    },
    "kernelspec": {
      "name": "python3",
      "display_name": "Python 3"
    },
    "language_info": {
      "name": "python"
    }
  },
  "cells": [
    {
      "cell_type": "code",
      "execution_count": 34,
      "metadata": {
        "id": "kiBiJiH8Ejgh"
      },
      "outputs": [],
      "source": [
        "import numpy as np"
      ]
    },
    {
      "cell_type": "code",
      "source": [
        "rows=int(input(\"Give the number of rows:\"))"
      ],
      "metadata": {
        "colab": {
          "base_uri": "https://localhost:8080/"
        },
        "id": "a5V1AFbAWVAk",
        "outputId": "241b9679-2816-47cd-ac87-457cce0adf53"
      },
      "execution_count": 69,
      "outputs": [
        {
          "name": "stdout",
          "output_type": "stream",
          "text": [
            "Give the number of rows:2\n"
          ]
        }
      ]
    },
    {
      "cell_type": "code",
      "source": [
        "cols=int(input(\"Give the number of cols:\"))"
      ],
      "metadata": {
        "colab": {
          "base_uri": "https://localhost:8080/"
        },
        "id": "4shoaiQaWe80",
        "outputId": "edcbceeb-ab8f-497f-bb8b-c148c21eae18"
      },
      "execution_count": 70,
      "outputs": [
        {
          "name": "stdout",
          "output_type": "stream",
          "text": [
            "Give the number of cols:2\n"
          ]
        }
      ]
    },
    {
      "cell_type": "code",
      "source": [
        "a = [[int(input()) for c in range (cols)] for r in range(rows)]"
      ],
      "metadata": {
        "colab": {
          "base_uri": "https://localhost:8080/"
        },
        "id": "YIlkNplzYfDu",
        "outputId": "b3422ce8-31ca-4660-9cad-41b5d2341107"
      },
      "execution_count": 71,
      "outputs": [
        {
          "name": "stdout",
          "output_type": "stream",
          "text": [
            "1\n",
            "2\n",
            "3\n",
            "4\n"
          ]
        }
      ]
    },
    {
      "cell_type": "code",
      "source": [
        "b = [[int(input()) for c in range (cols)] for r in range(rows)]"
      ],
      "metadata": {
        "colab": {
          "base_uri": "https://localhost:8080/"
        },
        "id": "fUr3WBT1Ynbr",
        "outputId": "7ee32965-08f6-42e7-a22a-b8d1ebe82285"
      },
      "execution_count": 72,
      "outputs": [
        {
          "name": "stdout",
          "output_type": "stream",
          "text": [
            "5\n",
            "6\n",
            "8\n",
            "9\n"
          ]
        }
      ]
    },
    {
      "cell_type": "code",
      "source": [
        "print(\"Matrix 'a' is:\",a)\n",
        "print(\"Matrix 'b' is:\",b)"
      ],
      "metadata": {
        "colab": {
          "base_uri": "https://localhost:8080/"
        },
        "id": "Y1mFdJY1E-a4",
        "outputId": "cdfc6934-fc72-48c0-a341-d78889751369"
      },
      "execution_count": 73,
      "outputs": [
        {
          "output_type": "stream",
          "name": "stdout",
          "text": [
            "Matrix 'a' is: [[1, 2], [3, 4]]\n",
            "Matrix 'b' is: [[5, 6], [8, 9]]\n"
          ]
        }
      ]
    },
    {
      "cell_type": "code",
      "source": [
        "print(\"\\ndot product of two matrix objects\")\n",
        "print(np.dot(a, b))"
      ],
      "metadata": {
        "colab": {
          "base_uri": "https://localhost:8080/"
        },
        "id": "g58AXdfpFCiQ",
        "outputId": "1d99114b-3233-4a44-de11-c0f2ef69e653"
      },
      "execution_count": 74,
      "outputs": [
        {
          "output_type": "stream",
          "name": "stdout",
          "text": [
            "\n",
            "dot product of two matrix objects\n",
            "[[21 24]\n",
            " [47 54]]\n"
          ]
        }
      ]
    },
    {
      "cell_type": "code",
      "source": [
        "print(\"\\n The transpose of a matrix 'a' is:\")\n",
        "print(np.transpose(a))"
      ],
      "metadata": {
        "colab": {
          "base_uri": "https://localhost:8080/"
        },
        "id": "8IEANXtsFVqB",
        "outputId": "86985fc6-79e3-4e77-824c-89ba0f7502ed"
      },
      "execution_count": 75,
      "outputs": [
        {
          "output_type": "stream",
          "name": "stdout",
          "text": [
            "\n",
            " The transpose of a matrix 'a' is:\n",
            "[[1 3]\n",
            " [2 4]]\n"
          ]
        }
      ]
    },
    {
      "cell_type": "code",
      "source": [
        "print(\"\\n The transpose of a matrix 'b' is:\")\n",
        "print(np.transpose(b))"
      ],
      "metadata": {
        "colab": {
          "base_uri": "https://localhost:8080/"
        },
        "id": "C8QA_i31Fxa5",
        "outputId": "599b67ee-8df5-4c43-fc89-6bbb96628e80"
      },
      "execution_count": 76,
      "outputs": [
        {
          "output_type": "stream",
          "name": "stdout",
          "text": [
            "\n",
            " The transpose of a matrix 'b' is:\n",
            "[[5 8]\n",
            " [6 9]]\n"
          ]
        }
      ]
    },
    {
      "cell_type": "code",
      "source": [
        "print(\"The trace of a matrix 'a' is:\",np.trace(a))"
      ],
      "metadata": {
        "colab": {
          "base_uri": "https://localhost:8080/"
        },
        "id": "UCA2-bS-NplM",
        "outputId": "793d6d51-3c79-4be2-e424-921b4e813794"
      },
      "execution_count": 82,
      "outputs": [
        {
          "output_type": "stream",
          "name": "stdout",
          "text": [
            "The trace of a matrix 'a' is: 5\n"
          ]
        }
      ]
    },
    {
      "cell_type": "code",
      "source": [
        "print(\"The trace of a matrix 'b' is:\",np.trace(b))"
      ],
      "metadata": {
        "colab": {
          "base_uri": "https://localhost:8080/"
        },
        "id": "SRC_mTb0OBt7",
        "outputId": "e0448267-6031-41e8-d5e1-d116ac626e28"
      },
      "execution_count": 83,
      "outputs": [
        {
          "output_type": "stream",
          "name": "stdout",
          "text": [
            "The trace of a matrix 'b' is: 14\n"
          ]
        }
      ]
    },
    {
      "cell_type": "code",
      "source": [
        "rank = np.linalg.matrix_rank(a)\n",
        "print(\"Rank of the given Matrix 'a'is : \",rank)"
      ],
      "metadata": {
        "colab": {
          "base_uri": "https://localhost:8080/"
        },
        "id": "IE__Jn2XIU7r",
        "outputId": "15e64822-69be-40ed-e678-42a9494025df"
      },
      "execution_count": 84,
      "outputs": [
        {
          "output_type": "stream",
          "name": "stdout",
          "text": [
            "Rank of the given Matrix 'a'is :  2\n"
          ]
        }
      ]
    },
    {
      "cell_type": "code",
      "source": [
        "rank = np.linalg.matrix_rank(b)\n",
        "print(\"Rank of the given Matrix 'b'is : \",rank)"
      ],
      "metadata": {
        "colab": {
          "base_uri": "https://localhost:8080/"
        },
        "id": "59tQOStGI3UK",
        "outputId": "63dbdfc6-8001-4065-d48c-71dd93b6c96a"
      },
      "execution_count": 85,
      "outputs": [
        {
          "output_type": "stream",
          "name": "stdout",
          "text": [
            "Rank of the given Matrix 'b'is :  2\n"
          ]
        }
      ]
    },
    {
      "cell_type": "code",
      "source": [
        "d= np.linalg.det(a)\n",
        "print(\"\\nDeterminant of  matrix 'a' is :\")\n",
        "print(int(d))"
      ],
      "metadata": {
        "colab": {
          "base_uri": "https://localhost:8080/"
        },
        "id": "3hhckU-VJAmC",
        "outputId": "e1e55cb6-c004-4e76-a750-99eaaa058a4c"
      },
      "execution_count": 86,
      "outputs": [
        {
          "output_type": "stream",
          "name": "stdout",
          "text": [
            "\n",
            "Determinant of  matrix 'a' is :\n",
            "-2\n"
          ]
        }
      ]
    }
  ]
}